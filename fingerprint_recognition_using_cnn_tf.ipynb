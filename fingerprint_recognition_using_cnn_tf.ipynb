{
  "nbformat": 4,
  "nbformat_minor": 0,
  "metadata": {
    "colab": {
      "name": "fingerprint_recognition_using_cnn_tf.ipynb",
      "version": "0.3.2",
      "provenance": [],
      "collapsed_sections": [],
      "include_colab_link": true
    },
    "kernelspec": {
      "name": "python3",
      "display_name": "Python 3"
    },
    "accelerator": "GPU"
  },
  "cells": [
    {
      "cell_type": "markdown",
      "metadata": {
        "id": "view-in-github",
        "colab_type": "text"
      },
      "source": [
        "<a href=\"https://colab.research.google.com/github/arnauldnzegha/face_fingerprinter_fusion_for_authentification/blob/master/fingerprint_recognition_using_cnn_tf.ipynb\" target=\"_parent\"><img src=\"https://colab.research.google.com/assets/colab-badge.svg\" alt=\"Open In Colab\"/></a>"
      ]
    },
    {
      "cell_type": "code",
      "metadata": {
        "id": "b7QmeIkrJfRS",
        "colab_type": "code",
        "colab": {}
      },
      "source": [
        "##*****************LOAD AND UNZIP******************************\n",
        "!pip install -U -q PyDrive\n",
        "from pydrive.auth import GoogleAuth\n",
        "from pydrive.drive import GoogleDrive\n",
        "from google.colab import auth\n",
        "from oauth2client.client import GoogleCredentials\n",
        "import zipfile, os\n",
        "auth.authenticate_user()\n",
        "gauth = GoogleAuth()\n",
        "gauth.credentials = GoogleCredentials.get_application_default()\n",
        "drive = GoogleDrive(gauth)\n",
        "zip_id = '11FkzDhCWZrXxlIn_CZ2SEUlv0riz8j_E'\n",
        "if not os.path.exists('DATAF'):\n",
        "    os.makedirs('DATAF')\n",
        "myzip = drive.CreateFile({'id': zip_id})\n",
        "myzip.GetContentFile('model.zip')\n",
        "zip_ref = zipfile.ZipFile('model.zip', 'r')\n",
        "zip_ref.extractall('DATAF/')\n",
        "zip_ref.close()"
      ],
      "execution_count": 0,
      "outputs": []
    },
    {
      "cell_type": "code",
      "metadata": {
        "id": "azyDkd4vt0xA",
        "colab_type": "code",
        "outputId": "7758ae63-4759-45c3-a528-21a0d32c601e",
        "colab": {
          "base_uri": "https://localhost:8080/",
          "height": 35
        }
      },
      "source": [
        "from __future__ import print_function\n",
        "from sklearn.model_selection import train_test_split\n",
        "from sklearn.datasets import fetch_lfw_people\n",
        "from keras.utils import np_utils\n",
        "from PIL import Image\n",
        "import cv2, os\n",
        "import numpy as np\n",
        "import warnings\n",
        "import matplotlib.pyplot as plt\n",
        "from keras.models import Model\n",
        "from keras.optimizers import SGD,Adadelta\n",
        "from keras.layers import Flatten, Dense, Convolution2D, MaxPooling2D, Input, Dropout\n",
        "from keras.layers.normalization import BatchNormalization\n",
        "from keras.utils.layer_utils import convert_all_kernels_in_model\n",
        "from keras.utils.data_utils import get_file\n",
        "from keras import backend as K\n",
        "from random import shuffle\n",
        "from keras.preprocessing.image import load_img, img_to_array, array_to_img"
      ],
      "execution_count": 2,
      "outputs": [
        {
          "output_type": "stream",
          "text": [
            "Using TensorFlow backend.\n"
          ],
          "name": "stderr"
        }
      ]
    },
    {
      "cell_type": "code",
      "metadata": {
        "id": "Ax0B-futt41i",
        "colab_type": "code",
        "colab": {}
      },
      "source": [
        "def load_trainSet():\n",
        "    root=\"DATAF/VeriFinger_Sample_DB/\"\n",
        "    f_id=[12,13,17,22,27,45,47,57,76]\n",
        "    bin_id=np.zeros([9,8])\n",
        "    tab_id=[]\n",
        "    x_data,y_label=[],[]\n",
        "    for i in range (len(f_id)):\n",
        "      for j in range(8):\n",
        "        bin_id=np.zeros([9,8])\n",
        "        bin_id[i][j]=1\n",
        "        file_id=\"0\"+str(f_id[i])+\"_\"+str(j+1)\n",
        "        for n in range(1,9):\n",
        "          file_name=root+file_id+\"_\"+str(n)+\".tif\"\n",
        "          if os.path.exists(file_name):\n",
        "            img=cv2.imread(file_name)\n",
        "            img= cv2.resize(img,(100,100))\n",
        "            x_data.extend([img])\n",
        "            y_label.extend([bin_id.flatten()])\n",
        "            \n",
        "            x_data.extend([np.fliplr(img)])\n",
        "            y_label.extend([bin_id.flatten()])\n",
        "    return (np.asarray(x_data), np.asarray(y_label), 8*9) "
      ],
      "execution_count": 0,
      "outputs": []
    },
    {
      "cell_type": "code",
      "metadata": {
        "id": "opdB9qCFt8Pj",
        "colab_type": "code",
        "colab": {}
      },
      "source": [
        "def mixData(xs,ys):\n",
        "    xys=[]\n",
        "    for i in range(0,len(xs)-1):\n",
        "        xys.append((xs[i],ys[i]))\n",
        "    shuffle(xys)\n",
        "    x2,y2=[],[]\n",
        "    for (x,y) in xys:\n",
        "        x2.append(x)\n",
        "        y2.append(y)\n",
        "    return (np.asarray(x2), np.asarray(y2))\n",
        "#X_train, Y_train=mixData(X_train, Y_train)"
      ],
      "execution_count": 0,
      "outputs": []
    },
    {
      "cell_type": "code",
      "metadata": {
        "id": "QUU_WQxFuAr0",
        "colab_type": "code",
        "colab": {}
      },
      "source": [
        "def save_weights_in_drive(model, filename):\n",
        "  from google.colab import files\n",
        "  model.save_weights('my_model_weights_fam.h5')\n",
        "  uploaded = drive.CreateFile({'title': 'my_model_weights_fam.h5'})\n",
        "  uploaded.SetContentFile('model_weights_AUG_300.h5')\n",
        "  uploaded.Upload()\n",
        "  print('Uploaded file with ID {}'.format(uploaded.get('id')))"
      ],
      "execution_count": 0,
      "outputs": []
    },
    {
      "cell_type": "code",
      "metadata": {
        "id": "bMYZPvsDuR4E",
        "colab_type": "code",
        "colab": {}
      },
      "source": [
        "def fr_model(input_shape,nb_person=1):\n",
        "    img_input = Input(shape=input_shape)\n",
        "    #Block 1 avec 64 filtre\n",
        "    x = Convolution2D(64, 3, 3, activation='relu', border_mode='same', name='conv1_1')(img_input)\n",
        "    x=BatchNormalization()(x)\n",
        "    x = Convolution2D(64, 3, 3, activation='relu', border_mode='same', name='conv1_2')(x)\n",
        "    x = MaxPooling2D((2, 2), strides=(2, 2), name='pool1')(x)\n",
        "    x= Dropout(0.25)(x)\n",
        "\n",
        "    # Block 2\n",
        "    x = Convolution2D(128, 3, 3, activation='relu', border_mode='same', name='conv2_1')(x)\n",
        "    x = Convolution2D(128, 3, 3, activation='relu', border_mode='same', name='conv2_2')(x)\n",
        "    x=BatchNormalization()(x)\n",
        "    x = MaxPooling2D((2, 2), strides=(2, 2), name='pool2')(x)\n",
        "    x= Dropout(0.25)(x)\n",
        "    \n",
        "    # Block 3\n",
        "    x = Convolution2D(256, 3, 3, activation='relu', border_mode='same', name='conv3_1')(x)\n",
        "    x = Convolution2D(256, 3, 3, activation='relu', border_mode='same', name='conv3_2')(x)\n",
        "    x=BatchNormalization()(x)\n",
        "    x = Convolution2D(256, 3, 3, activation='relu', border_mode='same', name='conv3_3')(x)\n",
        "    x = MaxPooling2D((2, 2), strides=(2, 2), name='pool3')(x)\n",
        "    x= Dropout(0.25)(x)\n",
        "    \"\"\"\n",
        "    # Block 4\n",
        "    x = Convolution2D(256, 3, 3, activation='relu', border_mode='same', name='conv4_1')(x)\n",
        "    x = Convolution2D(256, 3, 3, activation='relu', border_mode='same', name='conv4_2')(x)\n",
        "    x = Convolution2D(256, 3, 3, activation='relu', border_mode='same', name='conv4_3')(x)\n",
        "    x=BatchNormalization()(x)\n",
        "    x = MaxPooling2D((2, 2), strides=(2, 2), name='pool4')(x)\n",
        "    x= Dropout(0.25)(x)\"\"\"\n",
        "\n",
        "    # Block 5\n",
        "    x = Convolution2D(256, 3, 3, activation='relu', border_mode='same', name='conv5_1')(x)\n",
        "    x = Convolution2D(256, 3, 3, activation='relu', border_mode='same', name='conv5_2')(x)\n",
        "    x = Convolution2D(256, 3, 3, activation='relu', border_mode='same', name='conv5_3')(x)\n",
        "    x=BatchNormalization()(x)\n",
        "    x = MaxPooling2D((2, 2), strides=(2, 2), name='pool5')(x)\n",
        "    x= Dropout(0.25)(x)\n",
        "\n",
        "    #Classifieur du modele\n",
        "    x = Flatten(name='flatten')(x)\n",
        "    x = Dense(2048, activation='relu', name='fc6')(x)\n",
        "    x= Dropout(0.25)(x)\n",
        "    x = Dense(1024, activation='relu', name='fc7')(x)\n",
        "    x = Dense(nb_person, activation='softmax', name='fc8')(x)\n",
        "    model = Model(img_input, x)\n",
        "    return model"
      ],
      "execution_count": 0,
      "outputs": []
    },
    {
      "cell_type": "code",
      "metadata": {
        "id": "oWZ7Fh7vzcvq",
        "colab_type": "code",
        "colab": {}
      },
      "source": [
        "from keras.preprocessing.image import ImageDataGenerator\n",
        "datagen = ImageDataGenerator(\n",
        "    featurewise_center=True,\n",
        "    featurewise_std_normalization=True,\n",
        "    rotation_range=20,\n",
        "    width_shift_range=0.2,\n",
        "    height_shift_range=0.2,\n",
        "    horizontal_flip=True)"
      ],
      "execution_count": 0,
      "outputs": []
    },
    {
      "cell_type": "code",
      "metadata": {
        "id": "svRBSwELuWAn",
        "colab_type": "code",
        "colab": {}
      },
      "source": [
        "if __name__ == '__main__':\n",
        "    import copy\n",
        "    (x_train, y_train, nb_class)=load_trainSet()\n",
        "    print(x_train[100].shape)\n",
        "    #(x_train, y_train)=augment(x_train, y_train)\n",
        "    (x_train, y_train)=mixData(x_train, y_train)\n",
        "    model = fr_model(nb_person=nb_class, input_shape=x_train[0].shape)\n",
        "    #sgd = SGD(lr=0.01, decay=1e-6, momentum=0.9, nesterov=True)\n",
        "    delta=Adadelta(lr=1.0, rho=0.95, epsilon=None, decay=0.0)\n",
        "    model.compile(loss='categorical_crossentropy', optimizer=delta,  metrics=['accuracy'])\n",
        "    print(\"Entrainement du modele\")\n",
        "    tr,v=len(x_train)-50,len(x_train)-1\n",
        "    hist=model.fit_generator(datagen.flow(x_train[:tr], y_train[:tr], batch_size=32),\n",
        "                    steps_per_epoch=len(x_train) / 32, validation_data =(x_train[tr:v], y_train[tr:v]), epochs=140, verbose=1)\n",
        "\"\"\"\n",
        "    hist=model.fit(x_train, y_train, validation_split=0.33, batch_size=40, epochs=1000, verbose=1)\"\"\""
      ],
      "execution_count": 0,
      "outputs": []
    },
    {
      "cell_type": "code",
      "metadata": {
        "id": "ptw5Q3bRuZ4w",
        "colab_type": "code",
        "colab": {
          "base_uri": "https://localhost:8080/",
          "height": 295
        },
        "outputId": "1f9066ea-5cca-4030-cc16-dcd9f038c4fe"
      },
      "source": [
        "plt.plot(hist.history['acc'])\n",
        "plt.plot(hist.history['val_acc'])\n",
        "plt.title('courbe de la perte / 1000 itération')\n",
        "plt.ylabel('Perte')\n",
        "plt.xlabel('itération')\n",
        "plt.legend(['train', 'test'], loc='upper left')\n",
        "plt.show()"
      ],
      "execution_count": 21,
      "outputs": [
        {
          "output_type": "display_data",
          "data": {
            "image/png": "[encoded data removed]",
            "text/plain": [
              "<Figure size 432x288 with 1 Axes>"
            ]
          },
          "metadata": {
            "tags": []
          }
        }
      ]
    },
    {
      "cell_type": "code",
      "metadata": {
        "id": "XRs-Cvycud43",
        "colab_type": "code",
        "colab": {
          "base_uri": "https://localhost:8080/",
          "height": 161
        },
        "outputId": "5c212eff-6d77-4d18-cdcd-6ead043af0f2"
      },
      "source": [
        "(x, y, _)=load_trainSet()\n",
        "test=model.predict(x_train[tr:v])\n",
        "test2=model.evaluate(x_train[tr:v], y_train[tr:v])\n",
        "list_id=np.argmax(test, axis=1)\n",
        "print(test2)\n",
        "print(list_id)\n",
        "print(np.argmax(y_train[tr:v], axis=1))"
      ],
      "execution_count": 30,
      "outputs": [
        {
          "output_type": "stream",
          "text": [
            "49/49 [==============================] - 0s 2ms/step\n",
            "[3.010927268436977, 0.5714285799435207]\n",
            "[71 23 54 13 53 26 30 23 14 30 42 50 11 27 20 12 29 13 36 15 15 54 67 34\n",
            " 28 20 54 15 31 45 31 14 20 36 71 54 29 34 54 10 22 20 28 70 15 10 53 68\n",
            " 59]\n",
            "[71 23 50 13 53 26 30 23 14 27 42 50 11 27 20  3 28 12 45  6 67 26 66 27\n",
            " 28 20 51 15 26 45 71 14 20 36 71 43 28 39 51 10 22 20 55 70  6 10 52 68\n",
            " 59]\n"
          ],
          "name": "stdout"
        }
      ]
    },
    {
      "cell_type": "code",
      "metadata": {
        "id": "Napk4q09QJa9",
        "colab_type": "code",
        "colab": {}
      },
      "source": [
        ""
      ],
      "execution_count": 0,
      "outputs": []
    }
  ]
}
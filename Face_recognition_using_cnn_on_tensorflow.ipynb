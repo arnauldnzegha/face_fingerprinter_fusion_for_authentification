{
  "nbformat": 4,
  "nbformat_minor": 0,
  "metadata": {
    "colab": {
      "name": "Face_recognition_using_cnn_on_tensorflow.ipynb",
      "version": "0.3.2",
      "provenance": [],
      "collapsed_sections": [],
      "toc_visible": true,
      "include_colab_link": true
    },
    "kernelspec": {
      "name": "python3",
      "display_name": "Python 3"
    },
    "accelerator": "GPU"
  },
  "cells": [
    {
      "cell_type": "markdown",
      "metadata": {
        "id": "view-in-github",
        "colab_type": "text"
      },
      "source": [
        "<a href=\"https://colab.research.google.com/github/arnauldnzegha/face_fingerprinter_fusion_for_authentification/blob/master/Face_recognition_using_cnn_on_tensorflow.ipynb\" target=\"_parent\"><img src=\"https://colab.research.google.com/assets/colab-badge.svg\" alt=\"Open In Colab\"/></a>"
      ]
    },
    {
      "cell_type": "markdown",
      "metadata": {
        "id": "QZQCFBRxd1PO",
        "colab_type": "text"
      },
      "source": [
        "#Multimodale fusion for authentication: face + fingerprinter\n",
        "\n",
        "This notebook presente a multimodale fusion approch to inprouve authentication systeme accuracy. \n",
        "\n",
        "This has key importance in real-time systems as long as the autentifiacation of any modality is not 100% guaranteed. "
      ]
    },
    {
      "cell_type": "markdown",
      "metadata": {
        "id": "s7xZcQZwiCNL",
        "colab_type": "text"
      },
      "source": [
        "This routine load the training data set form google drive and unzip it in \"DATA2/\""
      ]
    },
    {
      "cell_type": "code",
      "metadata": {
        "id": "ueyV4r_Um49c",
        "colab_type": "code",
        "colab": {}
      },
      "source": [
        ""
      ],
      "execution_count": 0,
      "outputs": []
    },
    {
      "cell_type": "code",
      "metadata": {
        "id": "CTAlwtNMhcMr",
        "colab_type": "code",
        "colab": {}
      },
      "source": [
        "##*****************LOAD AND UNZIP******************************\n",
        "!pip install -U -q PyDrive\n",
        "from pydrive.auth import GoogleAuth\n",
        "from pydrive.drive import GoogleDrive\n",
        "from google.colab import auth\n",
        "from oauth2client.client import GoogleCredentials\n",
        "import zipfile, os\n",
        "auth.authenticate_user()\n",
        "gauth = GoogleAuth()\n",
        "gauth.credentials = GoogleCredentials.get_application_default()\n",
        "drive = GoogleDrive(gauth)\n",
        "zip_id = '1JmTI7bdp49q44PDz-m08rCifxTHCpcCo'\n",
        "if not os.path.exists('DATA2'):\n",
        "    os.makedirs('DATA2')\n",
        "myzip = drive.CreateFile({'id': zip_id})\n",
        "myzip.GetContentFile('model.zip')\n",
        "zip_ref = zipfile.ZipFile('model.zip', 'r')\n",
        "zip_ref.extractall('DATA2/')\n",
        "zip_ref.close()"
      ],
      "execution_count": 0,
      "outputs": []
    },
    {
      "cell_type": "markdown",
      "metadata": {
        "id": "Th-k0rVXhuZK",
        "colab_type": "text"
      },
      "source": [
        "Here, there is all usefull importations"
      ]
    },
    {
      "cell_type": "code",
      "metadata": {
        "id": "LkRAuQoYhsCM",
        "colab_type": "code",
        "outputId": "dfd59d35-6066-467e-c386-005e8b192475",
        "colab": {
          "base_uri": "https://localhost:8080/",
          "height": 35
        }
      },
      "source": [
        "from __future__ import print_function\n",
        "from sklearn.model_selection import train_test_split\n",
        "from sklearn.datasets import fetch_lfw_people\n",
        "from keras.utils import np_utils\n",
        "from PIL import Image\n",
        "import cv2\n",
        "import numpy as np\n",
        "import warnings\n",
        "import matplotlib.pyplot as plt\n",
        "from keras.models import Model\n",
        "from keras.optimizers import SGD,Adadelta\n",
        "from keras.layers import Flatten, Dense, Convolution2D, MaxPooling2D, Input, Dropout\n",
        "from keras.layers.normalization import BatchNormalization\n",
        "from keras.utils.layer_utils import convert_all_kernels_in_model\n",
        "from keras.utils.data_utils import get_file\n",
        "from keras import backend as K\n",
        "from random import shuffle\n",
        "from keras.preprocessing.image import load_img, img_to_array, array_to_img"
      ],
      "execution_count": 0,
      "outputs": [
        {
          "output_type": "stream",
          "text": [
            "Using TensorFlow backend.\n"
          ],
          "name": "stderr"
        }
      ]
    },
    {
      "cell_type": "markdown",
      "metadata": {
        "id": "A7r03_OHzTeT",
        "colab_type": "text"
      },
      "source": [
        "This function mix "
      ]
    },
    {
      "cell_type": "code",
      "metadata": {
        "id": "wuUSltTUB6mu",
        "colab_type": "code",
        "colab": {}
      },
      "source": [
        "def load_trainSet():\n",
        "    root=\"DATA2/yalefacesCrp\"\n",
        "    folders = os.listdir(root)\n",
        "    nb = len(folders)\n",
        "    x_data=[]\n",
        "    y_label=[]\n",
        "    for x in range(nb):\n",
        "        label=np.zeros(nb)\n",
        "        label[x]=1\n",
        "        facesPath=os.listdir(root+\"/\"+folders[x])\n",
        "        faces=[root+\"/\"+folders[x]+\"/\"+f for f in facesPath if f.endswith(\".png\")]\n",
        "        for face in faces:\n",
        "            img=cv2.imread(face)\n",
        "            x_data.extend([img])\n",
        "            y_label.extend([label])\n",
        "    return (np.asarray(x_data), np.asarray(y_label), nb)"
      ],
      "execution_count": 0,
      "outputs": []
    },
    {
      "cell_type": "code",
      "metadata": {
        "id": "IxUlGM6QiwtK",
        "colab_type": "code",
        "colab": {}
      },
      "source": [
        "def mixData(xs,ys):\n",
        "    xys=[]\n",
        "    for i in range(0,len(xs)-1):\n",
        "        xys.append((xs[i],ys[i]))\n",
        "    shuffle(xys)\n",
        "    x2,y2=[],[]\n",
        "    for (x,y) in xys:\n",
        "        x2.append(x)\n",
        "        y2.append(y)\n",
        "    return (np.asarray(x2), np.asarray(y2))\n",
        "#X_train, Y_train=mixData(X_train, Y_train)"
      ],
      "execution_count": 0,
      "outputs": []
    },
    {
      "cell_type": "code",
      "metadata": {
        "id": "C6A7m9Go_iS9",
        "colab_type": "code",
        "colab": {}
      },
      "source": [
        "def save_weights_in_drive(model, filename):\n",
        "  from google.colab import files\n",
        "  model.save_weights('my_model_weights_fam.h5')\n",
        "  uploaded = drive.CreateFile({'title': 'my_model_weights_fam.h5'})\n",
        "  uploaded.SetContentFile('model_weights_AUG_300.h5')\n",
        "  uploaded.Upload()\n",
        "  print('Uploaded file with ID {}'.format(uploaded.get('id')))"
      ],
      "execution_count": 0,
      "outputs": []
    },
    {
      "cell_type": "markdown",
      "metadata": {
        "id": "C9fnmLfAzj3A",
        "colab_type": "text"
      },
      "source": [
        "T"
      ]
    },
    {
      "cell_type": "code",
      "metadata": {
        "id": "-xJeJr5ajDwR",
        "colab_type": "code",
        "colab": {}
      },
      "source": [
        "def fr_model(input_shape,nb_person=1):\n",
        "    img_input = Input(shape=input_shape)\n",
        "    #Block 1 avec 64 filtre\n",
        "    x = Convolution2D(64, 3, 3, activation='relu', border_mode='same', name='conv1_1')(img_input)\n",
        "    x=BatchNormalization()(x)\n",
        "    x = Convolution2D(64, 3, 3, activation='relu', border_mode='same', name='conv1_2')(x)\n",
        "    x = MaxPooling2D((2, 2), strides=(2, 2), name='pool1')(x)\n",
        "    x= Dropout(0.25)(x)\n",
        "\n",
        "    # Block 2\n",
        "    x = Convolution2D(128, 3, 3, activation='relu', border_mode='same', name='conv2_1')(x)\n",
        "    x = Convolution2D(128, 3, 3, activation='relu', border_mode='same', name='conv2_2')(x)\n",
        "    x=BatchNormalization()(x)\n",
        "    x = MaxPooling2D((2, 2), strides=(2, 2), name='pool2')(x)\n",
        "    x= Dropout(0.25)(x)\n",
        "\n",
        "    # Block 3\n",
        "    x = Convolution2D(256, 3, 3, activation='relu', border_mode='same', name='conv3_1')(x)\n",
        "    x = Convolution2D(256, 3, 3, activation='relu', border_mode='same', name='conv3_2')(x)\n",
        "    x=BatchNormalization()(x)\n",
        "    x = Convolution2D(256, 3, 3, activation='relu', border_mode='same', name='conv3_3')(x)\n",
        "    x = MaxPooling2D((2, 2), strides=(2, 2), name='pool3')(x)\n",
        "    x= Dropout(0.25)(x)\n",
        "\n",
        "    # Block 4\n",
        "    x = Convolution2D(512, 3, 3, activation='relu', border_mode='same', name='conv4_1')(x)\n",
        "    x = Convolution2D(512, 3, 3, activation='relu', border_mode='same', name='conv4_2')(x)\n",
        "    x = Convolution2D(512, 3, 3, activation='relu', border_mode='same', name='conv4_3')(x)\n",
        "    x=BatchNormalization()(x)\n",
        "    x = MaxPooling2D((2, 2), strides=(2, 2), name='pool4')(x)\n",
        "    x= Dropout(0.25)(x)\n",
        "\n",
        "    # Block 5\n",
        "    x = Convolution2D(512, 3, 3, activation='relu', border_mode='same', name='conv5_1')(x)\n",
        "    x = Convolution2D(512, 3, 3, activation='relu', border_mode='same', name='conv5_2')(x)\n",
        "    x = Convolution2D(512, 3, 3, activation='relu', border_mode='same', name='conv5_3')(x)\n",
        "    x=BatchNormalization()(x)\n",
        "    x = MaxPooling2D((2, 2), strides=(2, 2), name='pool5')(x)\n",
        "    x= Dropout(0.25)(x)\n",
        "\n",
        "    #Classifieur du modele\n",
        "    x = Flatten(name='flatten')(x)\n",
        "    x = Dense(4096, activation='relu', name='fc6')(x)\n",
        "    x= Dropout(0.25)(x)\n",
        "    x = Dense(4096, activation='relu', name='fc7')(x)\n",
        "    x = Dense(nb_person, activation='softmax', name='fc8')(x)\n",
        "    model = Model(img_input, x)\n",
        "    return model"
      ],
      "execution_count": 0,
      "outputs": []
    },
    {
      "cell_type": "code",
      "metadata": {
        "id": "DzXS9oZUjKoq",
        "colab_type": "code",
        "outputId": "5fb71591-d3e1-40f2-8a3a-ad6cfc4a2f7e",
        "colab": {
          "base_uri": "https://localhost:8080/",
          "height": 523
        }
      },
      "source": [
        "if __name__ == '__main__':\n",
        "    import copy\n",
        "    (x_train, y_train, nb_class)=load_trainSet()\n",
        "    (x_train, y_train)=mixData(x_train, y_train)\n",
        "    model = fr_model(nb_person=nb_class, input_shape=x_train[0].shape)\n",
        "    #sgd = SGD(lr=0.01, decay=1e-6, momentum=0.9, nesterov=True)\n",
        "    delta=Adadelta(lr=1.0, rho=0.95, epsilon=None, decay=0.0)\n",
        "    model.compile(loss='categorical_crossentropy', optimizer=delta,  metrics=['accuracy'])\n",
        "    print(\"Entrainement du modele\")\n",
        "    hist=model.fit(x_train, y_train, validation_split=0.33, batch_size=50, epochs=1000, verbose=0)"
      ],
      "execution_count": 0,
      "outputs": [
        {
          "output_type": "stream",
          "text": [
            "WARNING:tensorflow:From /usr/local/lib/python3.6/dist-packages/tensorflow/python/framework/op_def_library.py:263: colocate_with (from tensorflow.python.framework.ops) is deprecated and will be removed in a future version.\n",
            "Instructions for updating:\n",
            "Colocations handled automatically by placer.\n"
          ],
          "name": "stdout"
        },
        {
          "output_type": "stream",
          "text": [
            "/usr/local/lib/python3.6/dist-packages/ipykernel_launcher.py:4: UserWarning: Update your `Conv2D` call to the Keras 2 API: `Conv2D(64, (3, 3), activation=\"relu\", name=\"conv1_1\", padding=\"same\")`\n",
            "  after removing the cwd from sys.path.\n"
          ],
          "name": "stderr"
        },
        {
          "output_type": "stream",
          "text": [
            "WARNING:tensorflow:From /usr/local/lib/python3.6/dist-packages/keras/backend/tensorflow_backend.py:3445: calling dropout (from tensorflow.python.ops.nn_ops) with keep_prob is deprecated and will be removed in a future version.\n",
            "Instructions for updating:\n",
            "Please use `rate` instead of `keep_prob`. Rate should be set to `rate = 1 - keep_prob`.\n"
          ],
          "name": "stdout"
        },
        {
          "output_type": "stream",
          "text": [
            "/usr/local/lib/python3.6/dist-packages/ipykernel_launcher.py:6: UserWarning: Update your `Conv2D` call to the Keras 2 API: `Conv2D(64, (3, 3), activation=\"relu\", name=\"conv1_2\", padding=\"same\")`\n",
            "  \n",
            "/usr/local/lib/python3.6/dist-packages/ipykernel_launcher.py:11: UserWarning: Update your `Conv2D` call to the Keras 2 API: `Conv2D(128, (3, 3), activation=\"relu\", name=\"conv2_1\", padding=\"same\")`\n",
            "  # This is added back by InteractiveShellApp.init_path()\n",
            "/usr/local/lib/python3.6/dist-packages/ipykernel_launcher.py:12: UserWarning: Update your `Conv2D` call to the Keras 2 API: `Conv2D(128, (3, 3), activation=\"relu\", name=\"conv2_2\", padding=\"same\")`\n",
            "  if sys.path[0] == '':\n",
            "/usr/local/lib/python3.6/dist-packages/ipykernel_launcher.py:18: UserWarning: Update your `Conv2D` call to the Keras 2 API: `Conv2D(256, (3, 3), activation=\"relu\", name=\"conv3_1\", padding=\"same\")`\n",
            "/usr/local/lib/python3.6/dist-packages/ipykernel_launcher.py:19: UserWarning: Update your `Conv2D` call to the Keras 2 API: `Conv2D(256, (3, 3), activation=\"relu\", name=\"conv3_2\", padding=\"same\")`\n",
            "/usr/local/lib/python3.6/dist-packages/ipykernel_launcher.py:21: UserWarning: Update your `Conv2D` call to the Keras 2 API: `Conv2D(256, (3, 3), activation=\"relu\", name=\"conv3_3\", padding=\"same\")`\n",
            "/usr/local/lib/python3.6/dist-packages/ipykernel_launcher.py:26: UserWarning: Update your `Conv2D` call to the Keras 2 API: `Conv2D(512, (3, 3), activation=\"relu\", name=\"conv4_1\", padding=\"same\")`\n",
            "/usr/local/lib/python3.6/dist-packages/ipykernel_launcher.py:27: UserWarning: Update your `Conv2D` call to the Keras 2 API: `Conv2D(512, (3, 3), activation=\"relu\", name=\"conv4_2\", padding=\"same\")`\n",
            "/usr/local/lib/python3.6/dist-packages/ipykernel_launcher.py:28: UserWarning: Update your `Conv2D` call to the Keras 2 API: `Conv2D(512, (3, 3), activation=\"relu\", name=\"conv4_3\", padding=\"same\")`\n",
            "/usr/local/lib/python3.6/dist-packages/ipykernel_launcher.py:34: UserWarning: Update your `Conv2D` call to the Keras 2 API: `Conv2D(512, (3, 3), activation=\"relu\", name=\"conv5_1\", padding=\"same\")`\n",
            "/usr/local/lib/python3.6/dist-packages/ipykernel_launcher.py:35: UserWarning: Update your `Conv2D` call to the Keras 2 API: `Conv2D(512, (3, 3), activation=\"relu\", name=\"conv5_2\", padding=\"same\")`\n",
            "/usr/local/lib/python3.6/dist-packages/ipykernel_launcher.py:36: UserWarning: Update your `Conv2D` call to the Keras 2 API: `Conv2D(512, (3, 3), activation=\"relu\", name=\"conv5_3\", padding=\"same\")`\n"
          ],
          "name": "stderr"
        },
        {
          "output_type": "stream",
          "text": [
            "Entrainement du modele\n",
            "WARNING:tensorflow:From /usr/local/lib/python3.6/dist-packages/tensorflow/python/ops/math_ops.py:3066: to_int32 (from tensorflow.python.ops.math_ops) is deprecated and will be removed in a future version.\n",
            "Instructions for updating:\n",
            "Use tf.cast instead.\n"
          ],
          "name": "stdout"
        }
      ]
    },
    {
      "cell_type": "markdown",
      "metadata": {
        "id": "uDnnauacAkgD",
        "colab_type": "text"
      },
      "source": [
        "Here we plot the accuracy on training set validation set"
      ]
    },
    {
      "cell_type": "code",
      "metadata": {
        "id": "zdLwLzbnANpE",
        "colab_type": "code",
        "outputId": "180990b8-1a54-4757-b4ef-a380c657a1d7",
        "colab": {
          "base_uri": "https://localhost:8080/",
          "height": 295
        }
      },
      "source": [
        "plt.plot(hist.history['acc'])\n",
        "plt.plot(hist.history['val_acc'])\n",
        "plt.title('courbe de la perte DataSet avec augmentation / 1000 itération')\n",
        "plt.ylabel('Perte')\n",
        "plt.xlabel('itération')\n",
        "plt.legend(['train', 'test'], loc='upper left')\n",
        "plt.show()"
      ],
      "execution_count": 0,
      "outputs": [
        {
          "output_type": "display_data",
          "data": {
            "image/png": "[encoded data removed]",
            "text/plain": [
              "<Figure size 432x288 with 1 Axes>"
            ]
          },
          "metadata": {
            "tags": []
          }
        }
      ]
    },
    {
      "cell_type": "markdown",
      "metadata": {
        "id": "5F3YobNCAfoi",
        "colab_type": "text"
      },
      "source": [
        "Test predictions"
      ]
    },
    {
      "cell_type": "code",
      "metadata": {
        "id": "ZnTO-WIPAfDY",
        "colab_type": "code",
        "outputId": "755d9b1b-1b68-410d-a6b8-271bb53032ca",
        "colab": {
          "base_uri": "https://localhost:8080/",
          "height": 53
        }
      },
      "source": [
        "(x, _, _)=load_trainSet()\n",
        "test=model.predict(x[14:44])\n",
        "list_id=np.argmax(test, axis=1)\n",
        "print(list_id)"
      ],
      "execution_count": 0,
      "outputs": [
        {
          "output_type": "stream",
          "text": [
            "[ 1  1  1  1  1  1  1  5  2  2  2  2  9  2  2 14  2  2  4  3  3  3  4  3\n",
            "  3  3  3  3  3  3]\n"
          ],
          "name": "stdout"
        }
      ]
    }
  ]
}